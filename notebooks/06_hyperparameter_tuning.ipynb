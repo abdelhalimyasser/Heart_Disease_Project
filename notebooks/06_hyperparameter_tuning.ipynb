{
  "nbformat": 4,
  "nbformat_minor": 0,
  "metadata": {
    "colab": {
      "provenance": []
    },
    "kernelspec": {
      "name": "python3",
      "display_name": "Python 3"
    },
    "language_info": {
      "name": "python"
    }
  },
  "cells": [
    {
      "cell_type": "markdown",
      "source": [
        "#**Importing Libraries**"
      ],
      "metadata": {
        "id": "mbIkXHh3e_rY"
      }
    },
    {
      "cell_type": "code",
      "execution_count": 1,
      "metadata": {
        "id": "2yxxuUAYe6-9"
      },
      "outputs": [],
      "source": [
        "import pandas as pd\n",
        "from sklearn.model_selection import GridSearchCV, RandomizedSearchCV, train_test_split\n",
        "from sklearn.preprocessing import StandardScaler\n",
        "from sklearn.metrics import accuracy_score, precision_score, recall_score, f1_score\n",
        "from sklearn.linear_model import LogisticRegression\n",
        "from sklearn.ensemble import RandomForestClassifier\n",
        "from sklearn.svm import SVC\n",
        "from sklearn.neighbors import KNeighborsClassifier\n",
        "from sklearn.tree import DecisionTreeClassifier\n",
        "from sklearn.linear_model import LogisticRegression\n",
        "from sklearn.ensemble import RandomForestClassifier\n",
        "from sklearn.svm import SVC\n",
        "from sklearn.neighbors import KNeighborsClassifier\n",
        "from sklearn.tree import DecisionTreeClassifier"
      ]
    },
    {
      "cell_type": "markdown",
      "source": [
        "#**Importing Dataset**"
      ],
      "metadata": {
        "id": "Y8wcDztyfFev"
      }
    },
    {
      "cell_type": "code",
      "source": [
        "df = pd.read_csv('/content/heart_disease_selected.csv')"
      ],
      "metadata": {
        "id": "4wF9c7RLfKkY"
      },
      "execution_count": 2,
      "outputs": []
    },
    {
      "cell_type": "markdown",
      "source": [
        "#**Spliting Dataset**"
      ],
      "metadata": {
        "id": "hi94HAShfjG5"
      }
    },
    {
      "cell_type": "code",
      "source": [
        "X = df.drop('target', axis=1)\n",
        "y = df['target']\n",
        "\n",
        "scaler = StandardScaler()\n",
        "X_scaled = scaler.fit_transform(X)\n",
        "\n",
        "X_train, X_test, y_train, y_test = train_test_split(X_scaled, y, test_size=0.2, random_state=42)"
      ],
      "metadata": {
        "id": "tjykprgyfnK4"
      },
      "execution_count": 3,
      "outputs": []
    },
    {
      "cell_type": "markdown",
      "source": [
        "#**Define Hyperparameter Grids**"
      ],
      "metadata": {
        "id": "gU-nfPa2oVzq"
      }
    },
    {
      "cell_type": "code",
      "source": [
        "param_grids = {\n",
        "    \"Logistic Regression\": {\n",
        "        'C': [0.01, 0.1, 1, 10],\n",
        "        'penalty': ['l2'],\n",
        "        'solver': ['lbfgs']\n",
        "    },\n",
        "    \"Random Forest\": {\n",
        "        'n_estimators': [50, 100, 200],\n",
        "        'max_depth': [None, 5, 10],\n",
        "        'min_samples_split': [2, 5, 10]\n",
        "    },\n",
        "    \"KNN\": {\n",
        "        'n_neighbors': [3, 5, 7, 9],\n",
        "        'weights': ['uniform', 'distance'],\n",
        "        'p': [1, 2]\n",
        "    },\n",
        "    \"SVC\": {\n",
        "        'C': [0.1, 1, 10],\n",
        "        'kernel': ['linear', 'rbf'],\n",
        "        'gamma': ['scale', 'auto']\n",
        "    },\n",
        "    \"Decision Tree\": {\n",
        "        'max_depth': [None, 3, 5, 7],\n",
        "        'min_samples_split': [2, 5, 10],\n",
        "        'criterion': ['gini', 'entropy']\n",
        "    }\n",
        "}\n"
      ],
      "metadata": {
        "id": "K6mreMxKoWdv"
      },
      "execution_count": 4,
      "outputs": []
    },
    {
      "cell_type": "code",
      "source": [
        "models = {\n",
        "    \"Logistic Regression\": LogisticRegression(max_iter=1000),\n",
        "    \"Random Forest\": RandomForestClassifier(random_state=42),\n",
        "    \"KNN\": KNeighborsClassifier(),\n",
        "    \"SVC\": SVC(),\n",
        "    \"Decision Tree\": DecisionTreeClassifier(random_state=42)\n",
        "}"
      ],
      "metadata": {
        "id": "YRZ4mIJMomSb"
      },
      "execution_count": 5,
      "outputs": []
    },
    {
      "cell_type": "code",
      "source": [
        "results = []\n",
        "for name, model in models.items():\n",
        "    grid = GridSearchCV(model, param_grids[name], cv=5, scoring='f1', n_jobs=-1)\n",
        "    grid.fit(X_train, y_train)\n",
        "\n",
        "    best_model = grid.best_estimator_\n",
        "    print(f\"Best Params for {name}: {grid.best_params_}\")\n",
        "\n",
        "    # Predict on test set\n",
        "    y_pred = best_model.predict(X_test)\n",
        "\n",
        "    # Evaluate\n",
        "    acc = accuracy_score(y_test, y_pred)\n",
        "    prec = precision_score(y_test, y_pred)\n",
        "    rec = recall_score(y_test, y_pred)\n",
        "    f1 = f1_score(y_test, y_pred)\n",
        "\n",
        "    results.append({\n",
        "        \"Model\": name,\n",
        "        \"Best Params\": grid.best_params_,\n",
        "        \"Test Accuracy\": acc,\n",
        "        \"Precision\": prec,\n",
        "        \"Recall\": rec,\n",
        "        \"F1 Score\": f1\n",
        "    })"
      ],
      "metadata": {
        "colab": {
          "base_uri": "https://localhost:8080/"
        },
        "id": "nwcIOcNcpk4o",
        "outputId": "8d3eddb5-19a6-4862-8a64-81be355758a0"
      },
      "execution_count": 6,
      "outputs": [
        {
          "output_type": "stream",
          "name": "stdout",
          "text": [
            "Best Params for Logistic Regression: {'C': 0.01, 'penalty': 'l2', 'solver': 'lbfgs'}\n",
            "Best Params for Random Forest: {'max_depth': None, 'min_samples_split': 5, 'n_estimators': 200}\n",
            "Best Params for KNN: {'n_neighbors': 9, 'p': 1, 'weights': 'distance'}\n",
            "Best Params for SVC: {'C': 0.1, 'gamma': 'scale', 'kernel': 'linear'}\n",
            "Best Params for Decision Tree: {'criterion': 'gini', 'max_depth': 5, 'min_samples_split': 10}\n"
          ]
        }
      ]
    }
  ]
}